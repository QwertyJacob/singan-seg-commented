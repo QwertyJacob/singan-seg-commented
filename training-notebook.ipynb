{
 "cells": [
  {
   "cell_type": "code",
   "execution_count": null,
   "outputs": [],
   "source": [
    "from SinGAN.manipulate import *\n",
    "from SinGAN.training import *\n",
    "import SinGAN.functions as functions\n",
    "import torch\n"
   ],
   "metadata": {
    "collapsed": false,
    "pycharm": {
     "name": "#%%\n"
    }
   }
  },
  {
   "cell_type": "code",
   "execution_count": null,
   "outputs": [],
   "source": [
    "parser = get_arguments()\n",
    "parser.add_argument('--input_dir', help='input image dir', default='Input/Images')\n",
    "parser.add_argument('--input_name', help='input image name', required=True)\n",
    "parser.add_argument('--mode', help='task to be done', default='train')\n",
    "parser.add_argument('--gpu_id', help='GPU ID to train')\n",
    "opt = parser.parse_args()\n",
    "opt = functions.post_config(opt)\n",
    "opt.device = torch.device(\"cpu\" if opt.not_cuda else \"cuda:{}\".format(opt.gpu_id))\n",
    "\n",
    "generator_list = []\n",
    "noise_map_list = []\n",
    "real_patch_list = []\n",
    "noise_amps_list = []\n",
    "dir2save = functions.generate_dir2save(opt)\n",
    "\n",
    "if (os.path.exists(dir2save)):\n",
    "    print('trained model already exist')\n",
    "else:\n",
    "    try:\n",
    "        os.makedirs(dir2save)\n",
    "    except OSError:\n",
    "        pass\n",
    "\n",
    "    real = functions.read_image(opt)\n",
    "\n",
    "    functions.adjust_scales2image(real, opt)\n",
    "\n",
    "    train(opt, generator_list, noise_map_list, real_patch_list, noise_amps_list)\n",
    "\n",
    "    SinGAN_generate(generator_list, noise_map_list, real_patch_list, noise_amps_list, opt)"
   ],
   "metadata": {
    "collapsed": false,
    "pycharm": {
     "name": "#%%\n"
    }
   }
  }
 ],
 "metadata": {
  "kernelspec": {
   "display_name": "Python 3",
   "language": "python",
   "name": "python3"
  },
  "language_info": {
   "codemirror_mode": {
    "name": "ipython",
    "version": 2
   },
   "file_extension": ".py",
   "mimetype": "text/x-python",
   "name": "python",
   "nbconvert_exporter": "python",
   "pygments_lexer": "ipython2",
   "version": "2.7.6"
  }
 },
 "nbformat": 4,
 "nbformat_minor": 0
}